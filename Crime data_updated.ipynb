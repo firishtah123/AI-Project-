{
 "cells": [
  {
   "cell_type": "markdown",
   "id": "e7efc201-a2fa-4197-b04b-33d94d9abcbd",
   "metadata": {},
   "source": [
    "# 8) Crime Data "
   ]
  },
  {
   "cell_type": "code",
   "execution_count": 2,
   "id": "b712a7c2-80d6-4f6f-b5c8-c383d250fa92",
   "metadata": {},
   "outputs": [
    {
     "name": "stdout",
     "output_type": "stream",
     "text": [
      "Notebook Directory: /Users/cassykang/Documents/ST449 project cleaned dataset\n"
     ]
    }
   ],
   "source": [
    "import os\n",
    "notebook_dir = os.path.abspath('')\n",
    "print(\"Notebook Directory:\", notebook_dir)"
   ]
  },
  {
   "cell_type": "code",
   "execution_count": 8,
   "id": "c2e60835-67ab-431b-b454-be2f716fe6c9",
   "metadata": {},
   "outputs": [
    {
     "name": "stdout",
     "output_type": "stream",
     "text": [
      "    Year Quarter  Count\n",
      "0   2020      Q1  82576\n",
      "1   2020      Q2  78606\n",
      "2   2020      Q3  86566\n",
      "3   2020      Q4  74974\n",
      "4   2021      Q1  69522\n",
      "5   2021      Q2  75183\n",
      "6   2021      Q3  74266\n",
      "7   2021      Q4  72765\n",
      "8   2022      Q1  81044\n",
      "9   2022      Q2  79475\n",
      "10  2022      Q3  75576\n",
      "11  2022      Q4  73426\n",
      "12  2023      Q1  81357\n",
      "13  2023      Q2  85179\n",
      "14  2023      Q3  83006\n",
      "15  2023      Q4  81847\n",
      "16  2024      Q1  79615\n",
      "17  2024      Q2  81978\n",
      "18  2024      Q3  83268\n"
     ]
    }
   ],
   "source": [
    "import pandas as pd\n",
    "\n",
    "# File path for the Crime Data by Boroughs CSV file\n",
    "file_path_crime = '/Users/cassykang/Documents/ST449 project cleaned dataset/Crime Data_updated(2020-2024).csv'\n",
    "crime_data = pd.read_csv(file_path_crime)\n",
    "\n",
    "# Renaming column if needed \n",
    "if 'Month_Year' not in crime_data.columns:\n",
    "    print(\"Column 'Month_Year' not found. Available columns are:\", crime_data.columns)\n",
    "else:\n",
    "    # Converting 'Month_Year' to datetime format\n",
    "    crime_data['Month_Year'] = pd.to_datetime(crime_data['Month_Year'])\n",
    "\n",
    "    # Splitting Month_Year into Year and Quarter\n",
    "    crime_data['Year'] = crime_data['Month_Year'].dt.year\n",
    "    crime_data['Quarter'] = crime_data['Month_Year'].dt.to_period('Q').dt.strftime('Q%q')\n",
    "\n",
    "    # Filtering for rows where the month is the last month of each quarter \n",
    "    last_month_of_quarter = crime_data[crime_data['Month_Year'].dt.month.isin([3, 6, 9, 12])]\n",
    "\n",
    "    # Ensuring the dataset has only one entry for each quarter (Q1, Q2, Q3, Q4) per year\n",
    "    filtered_data = last_month_of_quarter.groupby(['Year', 'Quarter'], as_index=False).first()\n",
    "\n",
    "    # Dropping the 'Month_Year' column\n",
    "    filtered_data = filtered_data.drop(columns=['Month_Year'])\n",
    "\n",
    "    # Reordering columns\n",
    "    filtered_data = filtered_data[['Year', 'Quarter', 'Count']]\n",
    "\n",
    "    # Display the filtered dataset\n",
    "    #print(filtered_data.head(50))\n",
    "\n",
    "# Sorting the data by Year, Quarter, and Borough\n",
    "filtered_data = filtered_data.sort_values(by=['Year', 'Quarter'])\n",
    "\n",
    "# 4. Display \n",
    "print(filtered_data.head(150))"
   ]
  },
  {
   "cell_type": "code",
   "execution_count": null,
   "id": "c0e0ff42-7edb-43db-a846-da86fed1045a",
   "metadata": {},
   "outputs": [],
   "source": []
  }
 ],
 "metadata": {
  "kernelspec": {
   "display_name": "Python 3 (ipykernel)",
   "language": "python",
   "name": "python3"
  },
  "language_info": {
   "codemirror_mode": {
    "name": "ipython",
    "version": 3
   },
   "file_extension": ".py",
   "mimetype": "text/x-python",
   "name": "python",
   "nbconvert_exporter": "python",
   "pygments_lexer": "ipython3",
   "version": "3.12.4"
  }
 },
 "nbformat": 4,
 "nbformat_minor": 5
}
