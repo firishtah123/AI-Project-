{
 "cells": [
  {
   "cell_type": "markdown",
   "id": "88d8238a-7c90-4464-bf4c-83a373d8f5d8",
   "metadata": {},
   "source": [
    "# ST449 Assignment 3 – Group Project (Autumn Term 2024)\n"
   ]
  },
  {
   "cell_type": "markdown",
   "id": "8a5c4966-e70a-42f6-9660-4b567fda7b35",
   "metadata": {},
   "source": [
    "## Table of Contents\n",
    "\n",
    "Introduction\n",
    "Justification for Predicting Housing Prices in London\n",
    "Challenges and Opportunities\n",
    "\n",
    "Related Work and Motivation\n",
    "Literature Review\n",
    "Motivation for Using Gradient Boosting Models\n",
    "\n",
    "Problem Breakdown\n",
    "Overview of the Housing Market in London\n",
    "Specific Challenges in Data and Prediction\n",
    "\n",
    "Articulation of Contributions\n",
    "Dataset Selection and Curation\n",
    "Novel Feature Engineering Techniques\n",
    "Model Benchmarking and Optimization\n",
    "\n",
    "Self-Containedness\n",
    "Description of Dataset Variables\n",
    "Mathematical Framework for the Prediction Model\n",
    "Principles of Gradient Boosting\n",
    "\n",
    "Problem Formulation\n",
    "Framing the Task as a Supervised Regression Problem\n",
    "Mathematical Representation of Gradient Boosting\n",
    "\n",
    "Solution\n",
    "Dataset Description and Preprocessing\n",
    "Feature Engineering\n",
    "Model Training and Optimization Workflow\n",
    "Evaluation Metrics\n",
    "\n",
    "Numerical Experiments\n",
    "Model Benchmarking and Results\n",
    "Visual Analysis of Results (Charts and Tables)\n",
    "Discussion on Model Performance\n",
    "\n",
    "Limitations and Future Work\n",
    "Identified Limitations of the Current Approach\n",
    "Proposed Directions for Future Research\n",
    "\n",
    "References\n",
    "Academic and Industry Sources\n",
    "Relevant Datasets and Tools\n",
    "Appendices \n",
    "Additional Plots or Data Descriptions\n",
    "Hyperparameter Optimization Details\n"
   ]
  },
  {
   "cell_type": "markdown",
   "id": "6427eea8-6cec-492f-84c8-82b7800dc9f2",
   "metadata": {},
   "source": [
    "# Paper which uses LSTM for house price prediction:\n",
    "\n",
    "https://www.sciencedirect.com/science/article/pii/S1029313223000623\n"
   ]
  },
  {
   "cell_type": "markdown",
   "id": "94493ee6-8a6d-4c77-b432-26dd2a3ef0aa",
   "metadata": {},
   "source": []
  },
  {
   "cell_type": "markdown",
   "id": "17f2ef5f-6a0e-4bee-bd3d-f524cf50f1e6",
   "metadata": {},
   "source": [
    "# STEP 1 - DATA CLEANING  - 5th JANUARY MONDAY"
   ]
  },
  {
   "cell_type": "code",
   "execution_count": null,
   "id": "c295200f-2af7-403d-abf4-cca6f4fdb1f2",
   "metadata": {},
   "outputs": [],
   "source": []
  }
 ],
 "metadata": {
  "kernelspec": {
   "display_name": "Python 3 (ipykernel)",
   "language": "python",
   "name": "python3"
  },
  "language_info": {
   "codemirror_mode": {
    "name": "ipython",
    "version": 3
   },
   "file_extension": ".py",
   "mimetype": "text/x-python",
   "name": "python",
   "nbconvert_exporter": "python",
   "pygments_lexer": "ipython3",
   "version": "3.12.4"
  }
 },
 "nbformat": 4,
 "nbformat_minor": 5
}
